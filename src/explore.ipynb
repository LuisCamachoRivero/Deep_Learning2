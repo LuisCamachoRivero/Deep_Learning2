{
 "cells": [
  {
   "cell_type": "markdown",
   "metadata": {},
   "source": [
    "# Explore here"
   ]
  },
  {
   "cell_type": "code",
   "execution_count": 1,
   "metadata": {},
   "outputs": [],
   "source": [
    "# Your code here\n",
    "import shutil\n",
    "import os\n",
    "import pandas as pd"
   ]
  },
  {
   "cell_type": "code",
   "execution_count": 27,
   "metadata": {},
   "outputs": [],
   "source": [
    "def separar_imagenes(ruta_carpeta):\n",
    "\n",
    "    archivos = os.listdir(ruta_carpeta)\n",
    "\n",
    "    for archivo in archivos:\n",
    "\n",
    "        if archivo.startswith('dog'):\n",
    "            destino = os.path.join(ruta_carpeta,'Dog')\n",
    "\n",
    "        elif archivo.startswith('cat'):\n",
    "            destino = os.path.join(ruta_carpeta, 'Cat')\n",
    "\n",
    "        else:\n",
    "            pass\n",
    "        \n",
    "        shutil.move(os.path.join(ruta_carpeta,archivo),destino)"
   ]
  },
  {
   "cell_type": "code",
   "execution_count": 22,
   "metadata": {},
   "outputs": [],
   "source": [
    "def separar_imagenes2(ruta_carpeta):\n",
    "    # Listamos todos los archivos en la carpeta\n",
    "    archivos = os.listdir(ruta_carpeta)\n",
    "    \n",
    "    # Creamos las carpetas si no existen\n",
    "    carpeta_dogs = os.path.join(ruta_carpeta, 'Dog')\n",
    "    carpeta_cats = os.path.join(ruta_carpeta, 'Cat')\n",
    "    \n",
    "    if not os.path.exists(carpeta_dogs):\n",
    "        os.makedirs(carpeta_dogs)\n",
    "    \n",
    "    if not os.path.exists(carpeta_cats):\n",
    "        os.makedirs(carpeta_cats)\n",
    "    \n",
    "    # Iteramos sobre los archivos\n",
    "    for archivo in archivos:\n",
    "        archivo_completo = os.path.join(ruta_carpeta, archivo)\n",
    "        \n",
    "        if archivo.startswith('dog'):\n",
    "            destino = carpeta_dogs\n",
    "        elif archivo.startswith('cat'):\n",
    "            destino = carpeta_cats\n",
    "        else:\n",
    "            continue  # Si no es ni perro ni gato, lo saltamos\n",
    "        \n",
    "        # Movemos el archivo a la carpeta correspondiente\n",
    "        shutil.move(archivo_completo, destino)"
   ]
  },
  {
   "cell_type": "code",
   "execution_count": 29,
   "metadata": {},
   "outputs": [],
   "source": [
    "separar_imagenes2('/workspaces/Deep_Learning/data/raw/train')"
   ]
  },
  {
   "cell_type": "code",
   "execution_count": 20,
   "metadata": {},
   "outputs": [
    {
     "name": "stderr",
     "output_type": "stream",
     "text": [
      "2024-10-07 23:51:28.622724: I external/local_xla/xla/tsl/cuda/cudart_stub.cc:32] Could not find cuda drivers on your machine, GPU will not be used.\n",
      "2024-10-07 23:51:28.628429: I external/local_xla/xla/tsl/cuda/cudart_stub.cc:32] Could not find cuda drivers on your machine, GPU will not be used.\n",
      "2024-10-07 23:51:28.635506: E external/local_xla/xla/stream_executor/cuda/cuda_fft.cc:485] Unable to register cuFFT factory: Attempting to register factory for plugin cuFFT when one has already been registered\n",
      "2024-10-07 23:51:28.649492: E external/local_xla/xla/stream_executor/cuda/cuda_dnn.cc:8454] Unable to register cuDNN factory: Attempting to register factory for plugin cuDNN when one has already been registered\n",
      "2024-10-07 23:51:28.653815: E external/local_xla/xla/stream_executor/cuda/cuda_blas.cc:1452] Unable to register cuBLAS factory: Attempting to register factory for plugin cuBLAS when one has already been registered\n",
      "2024-10-07 23:51:28.668222: I tensorflow/core/platform/cpu_feature_guard.cc:210] This TensorFlow binary is optimized to use available CPU instructions in performance-critical operations.\n",
      "To enable the following instructions: AVX2 FMA, in other operations, rebuild TensorFlow with the appropriate compiler flags.\n",
      "2024-10-07 23:51:29.892977: W tensorflow/compiler/tf2tensorrt/utils/py_utils.cc:38] TF-TRT Warning: Could not find TensorRT\n"
     ]
    }
   ],
   "source": [
    "from keras.preprocessing import image\n",
    "\n",
    "data_dir = '../data/raw/train'\n",
    "subfolder_dog = os.path.join(data_dir,'Dog')\n",
    "\n",
    "imagenes_perros = os.listdir(subfolder_dog)\n",
    "\n",
    "dog_imagenes = os.listdir(subfolder_dog)\n"
   ]
  }
 ],
 "metadata": {
  "kernelspec": {
   "display_name": ".venv",
   "language": "python",
   "name": "python3"
  },
  "language_info": {
   "codemirror_mode": {
    "name": "ipython",
    "version": 3
   },
   "file_extension": ".py",
   "mimetype": "text/x-python",
   "name": "python",
   "nbconvert_exporter": "python",
   "pygments_lexer": "ipython3",
   "version": "3.11.3"
  },
  "orig_nbformat": 4
 },
 "nbformat": 4,
 "nbformat_minor": 2
}
